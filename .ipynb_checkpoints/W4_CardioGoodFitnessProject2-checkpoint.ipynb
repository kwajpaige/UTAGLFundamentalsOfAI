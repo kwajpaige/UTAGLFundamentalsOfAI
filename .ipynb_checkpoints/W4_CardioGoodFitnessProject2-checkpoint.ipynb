{
 "cells": [
  {
   "cell_type": "markdown",
   "metadata": {},
   "source": [
    "# Fundamentals of AI Project 1 - Cardio Good Fitness\n",
    "# Paige Singleton \n",
    "# June 11, 2022"
   ]
  },
  {
   "cell_type": "markdown",
   "metadata": {},
   "source": [
    "# Section 1: Understanding the DataSet (Overview)"
   ]
  },
  {
   "cell_type": "code",
   "execution_count": 1,
   "metadata": {},
   "outputs": [],
   "source": [
    "import pandas as pd\n",
    "import numpy as np\n",
    "import matplotlib.pyplot as plt\n",
    "import seaborn as sns\n",
    "\n",
    "%matplotlib inline"
   ]
  },
  {
   "cell_type": "code",
   "execution_count": 2,
   "metadata": {},
   "outputs": [
    {
     "data": {
      "text/html": [
       "<div>\n",
       "<style scoped>\n",
       "    .dataframe tbody tr th:only-of-type {\n",
       "        vertical-align: middle;\n",
       "    }\n",
       "\n",
       "    .dataframe tbody tr th {\n",
       "        vertical-align: top;\n",
       "    }\n",
       "\n",
       "    .dataframe thead th {\n",
       "        text-align: right;\n",
       "    }\n",
       "</style>\n",
       "<table border=\"1\" class=\"dataframe\">\n",
       "  <thead>\n",
       "    <tr style=\"text-align: right;\">\n",
       "      <th></th>\n",
       "      <th>Product</th>\n",
       "      <th>Age</th>\n",
       "      <th>Gender</th>\n",
       "      <th>Education</th>\n",
       "      <th>MaritalStatus</th>\n",
       "      <th>Usage</th>\n",
       "      <th>Fitness</th>\n",
       "      <th>Income</th>\n",
       "      <th>Miles</th>\n",
       "    </tr>\n",
       "  </thead>\n",
       "  <tbody>\n",
       "    <tr>\n",
       "      <th>0</th>\n",
       "      <td>TM195</td>\n",
       "      <td>18</td>\n",
       "      <td>Male</td>\n",
       "      <td>14</td>\n",
       "      <td>Single</td>\n",
       "      <td>3</td>\n",
       "      <td>4</td>\n",
       "      <td>29562</td>\n",
       "      <td>112</td>\n",
       "    </tr>\n",
       "    <tr>\n",
       "      <th>1</th>\n",
       "      <td>TM195</td>\n",
       "      <td>19</td>\n",
       "      <td>Male</td>\n",
       "      <td>15</td>\n",
       "      <td>Single</td>\n",
       "      <td>2</td>\n",
       "      <td>3</td>\n",
       "      <td>31836</td>\n",
       "      <td>75</td>\n",
       "    </tr>\n",
       "    <tr>\n",
       "      <th>2</th>\n",
       "      <td>TM195</td>\n",
       "      <td>19</td>\n",
       "      <td>Female</td>\n",
       "      <td>14</td>\n",
       "      <td>Partnered</td>\n",
       "      <td>4</td>\n",
       "      <td>3</td>\n",
       "      <td>30699</td>\n",
       "      <td>66</td>\n",
       "    </tr>\n",
       "    <tr>\n",
       "      <th>3</th>\n",
       "      <td>TM195</td>\n",
       "      <td>19</td>\n",
       "      <td>Male</td>\n",
       "      <td>12</td>\n",
       "      <td>Single</td>\n",
       "      <td>3</td>\n",
       "      <td>3</td>\n",
       "      <td>32973</td>\n",
       "      <td>85</td>\n",
       "    </tr>\n",
       "    <tr>\n",
       "      <th>4</th>\n",
       "      <td>TM195</td>\n",
       "      <td>20</td>\n",
       "      <td>Male</td>\n",
       "      <td>13</td>\n",
       "      <td>Partnered</td>\n",
       "      <td>4</td>\n",
       "      <td>2</td>\n",
       "      <td>35247</td>\n",
       "      <td>47</td>\n",
       "    </tr>\n",
       "  </tbody>\n",
       "</table>\n",
       "</div>"
      ],
      "text/plain": [
       "  Product  Age  Gender  Education MaritalStatus  Usage  Fitness  Income  Miles\n",
       "0   TM195   18    Male         14        Single      3        4   29562    112\n",
       "1   TM195   19    Male         15        Single      2        3   31836     75\n",
       "2   TM195   19  Female         14     Partnered      4        3   30699     66\n",
       "3   TM195   19    Male         12        Single      3        3   32973     85\n",
       "4   TM195   20    Male         13     Partnered      4        2   35247     47"
      ]
     },
     "execution_count": 2,
     "metadata": {},
     "output_type": "execute_result"
    }
   ],
   "source": [
    "cardio=pd.read_csv('CardioGoodFitness.csv')\n",
    "cardio.head()"
   ]
  },
  {
   "cell_type": "code",
   "execution_count": 3,
   "metadata": {},
   "outputs": [
    {
     "name": "stdout",
     "output_type": "stream",
     "text": [
      "<class 'pandas.core.frame.DataFrame'>\n",
      "RangeIndex: 180 entries, 0 to 179\n",
      "Data columns (total 9 columns):\n",
      " #   Column         Non-Null Count  Dtype \n",
      "---  ------         --------------  ----- \n",
      " 0   Product        180 non-null    object\n",
      " 1   Age            180 non-null    int64 \n",
      " 2   Gender         180 non-null    object\n",
      " 3   Education      180 non-null    int64 \n",
      " 4   MaritalStatus  180 non-null    object\n",
      " 5   Usage          180 non-null    int64 \n",
      " 6   Fitness        180 non-null    int64 \n",
      " 7   Income         180 non-null    int64 \n",
      " 8   Miles          180 non-null    int64 \n",
      "dtypes: int64(6), object(3)\n",
      "memory usage: 12.8+ KB\n"
     ]
    }
   ],
   "source": [
    "#Understand tha overall dataset structure and data types\n",
    "cardio.info()"
   ]
  },
  {
   "cell_type": "markdown",
   "metadata": {},
   "source": [
    "## Observations: Cardio Dataset INFO  \n",
    "- Data set has 180 rows Number of customers) and 9 columns depicting the product purchase, age, gender, education, marital status, usage(number of times treadmill used per week), fitness (customer self rating from 1[low] to 5[high], income, miles (customer expects to run on treadmill in a given time frame not specified in problem statement.). \n",
    "\n",
    "- Data types appear to be reasonable choices for data context.\n",
    "\n",
    "- __No missing data points (180 non-null counts per 180 rows)__"
   ]
  },
  {
   "cell_type": "code",
   "execution_count": 4,
   "metadata": {},
   "outputs": [
    {
     "data": {
      "text/plain": [
       "Product          0\n",
       "Age              0\n",
       "Gender           0\n",
       "Education        0\n",
       "MaritalStatus    0\n",
       "Usage            0\n",
       "Fitness          0\n",
       "Income           0\n",
       "Miles            0\n",
       "dtype: int64"
      ]
     },
     "execution_count": 4,
     "metadata": {},
     "output_type": "execute_result"
    }
   ],
   "source": [
    "#Verify Null value count\n",
    "cardio.isnull().sum()"
   ]
  },
  {
   "cell_type": "code",
   "execution_count": 5,
   "metadata": {},
   "outputs": [
    {
     "data": {
      "text/plain": [
       "(180, 9)"
      ]
     },
     "execution_count": 5,
     "metadata": {},
     "output_type": "execute_result"
    }
   ],
   "source": [
    "# Confirm the number of rows and columns of data set\n",
    "cardio.shape"
   ]
  },
  {
   "cell_type": "code",
   "execution_count": 6,
   "metadata": {},
   "outputs": [
    {
     "data": {
      "text/plain": [
       "Product           3\n",
       "Age              32\n",
       "Gender            2\n",
       "Education         8\n",
       "MaritalStatus     2\n",
       "Usage             6\n",
       "Fitness           5\n",
       "Income           62\n",
       "Miles            37\n",
       "dtype: int64"
      ]
     },
     "execution_count": 6,
     "metadata": {},
     "output_type": "execute_result"
    }
   ],
   "source": [
    "# Understand the values in each column\n",
    "cardio.nunique()"
   ]
  },
  {
   "cell_type": "markdown",
   "metadata": {},
   "source": [
    "## Observations\n",
    "- Product, Gender, Education, Marital Status, Usage, and Fitness appear to have limited unique values per column."
   ]
  },
  {
   "cell_type": "code",
   "execution_count": 7,
   "metadata": {},
   "outputs": [
    {
     "data": {
      "text/plain": [
       "TM195    80\n",
       "TM498    60\n",
       "TM798    40\n",
       "Name: Product, dtype: int64"
      ]
     },
     "execution_count": 7,
     "metadata": {},
     "output_type": "execute_result"
    }
   ],
   "source": [
    "#Understand the value and number of each type of treadmill (Product)\n",
    "cardio['Product'].value_counts()"
   ]
  },
  {
   "cell_type": "code",
   "execution_count": 8,
   "metadata": {},
   "outputs": [
    {
     "data": {
      "text/plain": [
       "Male      104\n",
       "Female     76\n",
       "Name: Gender, dtype: int64"
      ]
     },
     "execution_count": 8,
     "metadata": {},
     "output_type": "execute_result"
    }
   ],
   "source": [
    "#Determine the number of females and males buying treadmills.\n",
    "cardio['Gender'].value_counts()"
   ]
  },
  {
   "cell_type": "code",
   "execution_count": 9,
   "metadata": {},
   "outputs": [
    {
     "data": {
      "text/plain": [
       "16    85\n",
       "14    55\n",
       "18    23\n",
       "15     5\n",
       "13     5\n",
       "21     3\n",
       "12     3\n",
       "20     1\n",
       "Name: Education, dtype: int64"
      ]
     },
     "execution_count": 9,
     "metadata": {},
     "output_type": "execute_result"
    }
   ],
   "source": [
    "#Determine the level of education  for each customer (Education level is \"education of the customer in no. of years.\")\n",
    "cardio['Education'].value_counts()"
   ]
  },
  {
   "cell_type": "code",
   "execution_count": 10,
   "metadata": {},
   "outputs": [
    {
     "data": {
      "text/plain": [
       "Partnered    107\n",
       "Single        73\n",
       "Name: MaritalStatus, dtype: int64"
      ]
     },
     "execution_count": 10,
     "metadata": {},
     "output_type": "execute_result"
    }
   ],
   "source": [
    "# Understnad number of customers who are married (have a partner) and single (do not have a partner)\n",
    "cardio['MaritalStatus'].value_counts()"
   ]
  },
  {
   "cell_type": "code",
   "execution_count": 11,
   "metadata": {},
   "outputs": [
    {
     "data": {
      "text/plain": [
       "2    33\n",
       "3    69\n",
       "4    52\n",
       "5    17\n",
       "6     7\n",
       "7     2\n",
       "Name: Usage, dtype: int64"
      ]
     },
     "execution_count": 11,
     "metadata": {},
     "output_type": "execute_result"
    }
   ],
   "source": [
    "# Understand customer usage of treadmill (days per week)\n",
    "cardio['Usage'].value_counts().sort_index()"
   ]
  },
  {
   "cell_type": "code",
   "execution_count": 12,
   "metadata": {},
   "outputs": [
    {
     "data": {
      "text/plain": [
       "1     2\n",
       "2    26\n",
       "3    97\n",
       "4    24\n",
       "5    31\n",
       "Name: Fitness, dtype: int64"
      ]
     },
     "execution_count": 12,
     "metadata": {},
     "output_type": "execute_result"
    }
   ],
   "source": [
    "#Understand customer self rating of fitness level\n",
    "cardio['Fitness'].value_counts().sort_index()"
   ]
  },
  {
   "cell_type": "code",
   "execution_count": 13,
   "metadata": {},
   "outputs": [
    {
     "name": "stdout",
     "output_type": "stream",
     "text": [
      "Product\n",
      "TM195    44.444444\n",
      "TM498    33.333333\n",
      "TM798    22.222222\n",
      "Name: Product, dtype: float64\n",
      "__________________________________________________\n",
      "Gender\n",
      "Female    42.222222\n",
      "Male      57.777778\n",
      "Name: Gender, dtype: float64\n",
      "__________________________________________________\n",
      "Education\n",
      "12     1.666667\n",
      "13     2.777778\n",
      "14    30.555556\n",
      "15     2.777778\n",
      "16    47.222222\n",
      "18    12.777778\n",
      "20     0.555556\n",
      "21     1.666667\n",
      "Name: Education, dtype: float64\n",
      "__________________________________________________\n",
      "MaritalStatus\n",
      "Partnered    59.444444\n",
      "Single       40.555556\n",
      "Name: MaritalStatus, dtype: float64\n",
      "__________________________________________________\n",
      "Usage\n",
      "2    18.333333\n",
      "3    38.333333\n",
      "4    28.888889\n",
      "5     9.444444\n",
      "6     3.888889\n",
      "7     1.111111\n",
      "Name: Usage, dtype: float64\n",
      "__________________________________________________\n",
      "Fitness\n",
      "1     1.111111\n",
      "2    14.444444\n",
      "3    53.888889\n",
      "4    13.333333\n",
      "5    17.222222\n",
      "Name: Fitness, dtype: float64\n",
      "__________________________________________________\n"
     ]
    }
   ],
   "source": [
    "#calcuate percentages associated with categorical data (include both numerical dtypes and object dtypes that have unique values)\n",
    "cat_cols = ['Product','Gender','Education','MaritalStatus','Usage','Fitness']\n",
    "for column in cat_cols:\n",
    "    x = cardio[column].value_counts(normalize=True).sort_index()\n",
    "    print(column)\n",
    "    print(x*100)\n",
    "    print('_'*50)\n"
   ]
  },
  {
   "cell_type": "markdown",
   "metadata": {},
   "source": [
    "## Observations\n",
    "- Six columms have a somewhat limited number of unique values.\n",
    "    - Customers purchase one of three Treadmill Products: TM195, TM498, TM798\n",
    "    - Customers are deisgnated Male or Female\n",
    "    - Customers are either Married (partnered) or Single\n",
    "    - Customers range from 16 - 21 discrete years of education\n",
    "    - Customers intend to use the treadmill 2, 3, 4, 5, 6, or 7 days per week\n",
    "    - Customers rank their own fitness level from 1 to 5. \n",
    "- Number of unique values/percentages per column is designated in above cells. \n"
   ]
  },
  {
   "cell_type": "code",
   "execution_count": 14,
   "metadata": {},
   "outputs": [
    {
     "data": {
      "text/html": [
       "<div>\n",
       "<style scoped>\n",
       "    .dataframe tbody tr th:only-of-type {\n",
       "        vertical-align: middle;\n",
       "    }\n",
       "\n",
       "    .dataframe tbody tr th {\n",
       "        vertical-align: top;\n",
       "    }\n",
       "\n",
       "    .dataframe thead th {\n",
       "        text-align: right;\n",
       "    }\n",
       "</style>\n",
       "<table border=\"1\" class=\"dataframe\">\n",
       "  <thead>\n",
       "    <tr style=\"text-align: right;\">\n",
       "      <th></th>\n",
       "      <th>count</th>\n",
       "      <th>unique</th>\n",
       "      <th>top</th>\n",
       "      <th>freq</th>\n",
       "      <th>mean</th>\n",
       "      <th>std</th>\n",
       "      <th>min</th>\n",
       "      <th>25%</th>\n",
       "      <th>50%</th>\n",
       "      <th>75%</th>\n",
       "      <th>max</th>\n",
       "    </tr>\n",
       "  </thead>\n",
       "  <tbody>\n",
       "    <tr>\n",
       "      <th>Product</th>\n",
       "      <td>180</td>\n",
       "      <td>3</td>\n",
       "      <td>TM195</td>\n",
       "      <td>80</td>\n",
       "      <td>NaN</td>\n",
       "      <td>NaN</td>\n",
       "      <td>NaN</td>\n",
       "      <td>NaN</td>\n",
       "      <td>NaN</td>\n",
       "      <td>NaN</td>\n",
       "      <td>NaN</td>\n",
       "    </tr>\n",
       "    <tr>\n",
       "      <th>Age</th>\n",
       "      <td>180</td>\n",
       "      <td>NaN</td>\n",
       "      <td>NaN</td>\n",
       "      <td>NaN</td>\n",
       "      <td>28.7889</td>\n",
       "      <td>6.9435</td>\n",
       "      <td>18</td>\n",
       "      <td>24</td>\n",
       "      <td>26</td>\n",
       "      <td>33</td>\n",
       "      <td>50</td>\n",
       "    </tr>\n",
       "    <tr>\n",
       "      <th>Gender</th>\n",
       "      <td>180</td>\n",
       "      <td>2</td>\n",
       "      <td>Male</td>\n",
       "      <td>104</td>\n",
       "      <td>NaN</td>\n",
       "      <td>NaN</td>\n",
       "      <td>NaN</td>\n",
       "      <td>NaN</td>\n",
       "      <td>NaN</td>\n",
       "      <td>NaN</td>\n",
       "      <td>NaN</td>\n",
       "    </tr>\n",
       "    <tr>\n",
       "      <th>Education</th>\n",
       "      <td>180</td>\n",
       "      <td>NaN</td>\n",
       "      <td>NaN</td>\n",
       "      <td>NaN</td>\n",
       "      <td>15.5722</td>\n",
       "      <td>1.61705</td>\n",
       "      <td>12</td>\n",
       "      <td>14</td>\n",
       "      <td>16</td>\n",
       "      <td>16</td>\n",
       "      <td>21</td>\n",
       "    </tr>\n",
       "    <tr>\n",
       "      <th>MaritalStatus</th>\n",
       "      <td>180</td>\n",
       "      <td>2</td>\n",
       "      <td>Partnered</td>\n",
       "      <td>107</td>\n",
       "      <td>NaN</td>\n",
       "      <td>NaN</td>\n",
       "      <td>NaN</td>\n",
       "      <td>NaN</td>\n",
       "      <td>NaN</td>\n",
       "      <td>NaN</td>\n",
       "      <td>NaN</td>\n",
       "    </tr>\n",
       "    <tr>\n",
       "      <th>Usage</th>\n",
       "      <td>180</td>\n",
       "      <td>NaN</td>\n",
       "      <td>NaN</td>\n",
       "      <td>NaN</td>\n",
       "      <td>3.45556</td>\n",
       "      <td>1.0848</td>\n",
       "      <td>2</td>\n",
       "      <td>3</td>\n",
       "      <td>3</td>\n",
       "      <td>4</td>\n",
       "      <td>7</td>\n",
       "    </tr>\n",
       "    <tr>\n",
       "      <th>Fitness</th>\n",
       "      <td>180</td>\n",
       "      <td>NaN</td>\n",
       "      <td>NaN</td>\n",
       "      <td>NaN</td>\n",
       "      <td>3.31111</td>\n",
       "      <td>0.958869</td>\n",
       "      <td>1</td>\n",
       "      <td>3</td>\n",
       "      <td>3</td>\n",
       "      <td>4</td>\n",
       "      <td>5</td>\n",
       "    </tr>\n",
       "    <tr>\n",
       "      <th>Income</th>\n",
       "      <td>180</td>\n",
       "      <td>NaN</td>\n",
       "      <td>NaN</td>\n",
       "      <td>NaN</td>\n",
       "      <td>53719.6</td>\n",
       "      <td>16506.7</td>\n",
       "      <td>29562</td>\n",
       "      <td>44058.8</td>\n",
       "      <td>50596.5</td>\n",
       "      <td>58668</td>\n",
       "      <td>104581</td>\n",
       "    </tr>\n",
       "    <tr>\n",
       "      <th>Miles</th>\n",
       "      <td>180</td>\n",
       "      <td>NaN</td>\n",
       "      <td>NaN</td>\n",
       "      <td>NaN</td>\n",
       "      <td>103.194</td>\n",
       "      <td>51.8636</td>\n",
       "      <td>21</td>\n",
       "      <td>66</td>\n",
       "      <td>94</td>\n",
       "      <td>114.75</td>\n",
       "      <td>360</td>\n",
       "    </tr>\n",
       "  </tbody>\n",
       "</table>\n",
       "</div>"
      ],
      "text/plain": [
       "              count unique        top freq     mean       std    min      25%  \\\n",
       "Product         180      3      TM195   80      NaN       NaN    NaN      NaN   \n",
       "Age             180    NaN        NaN  NaN  28.7889    6.9435     18       24   \n",
       "Gender          180      2       Male  104      NaN       NaN    NaN      NaN   \n",
       "Education       180    NaN        NaN  NaN  15.5722   1.61705     12       14   \n",
       "MaritalStatus   180      2  Partnered  107      NaN       NaN    NaN      NaN   \n",
       "Usage           180    NaN        NaN  NaN  3.45556    1.0848      2        3   \n",
       "Fitness         180    NaN        NaN  NaN  3.31111  0.958869      1        3   \n",
       "Income          180    NaN        NaN  NaN  53719.6   16506.7  29562  44058.8   \n",
       "Miles           180    NaN        NaN  NaN  103.194   51.8636     21       66   \n",
       "\n",
       "                   50%     75%     max  \n",
       "Product            NaN     NaN     NaN  \n",
       "Age                 26      33      50  \n",
       "Gender             NaN     NaN     NaN  \n",
       "Education           16      16      21  \n",
       "MaritalStatus      NaN     NaN     NaN  \n",
       "Usage                3       4       7  \n",
       "Fitness              3       4       5  \n",
       "Income         50596.5   58668  104581  \n",
       "Miles               94  114.75     360  "
      ]
     },
     "execution_count": 14,
     "metadata": {},
     "output_type": "execute_result"
    }
   ],
   "source": [
    "#Obtain a statistical summary of ALL the data (Transpose the output set)\n",
    "cardio.describe(include = 'all').T"
   ]
  },
  {
   "cell_type": "markdown",
   "metadata": {},
   "source": [
    "## Observations\n",
    "- Three columns have object datatypes: Product, Gender, and MaritalStatus. These columns have unique value counts of 3,2, and 2 respectively.\n",
    "- Married (Partnered) at 107/180 customers and  males at 104/180 have top frequency in the data set. \n",
    "- Treadmill product TM195 is most purchased Treadmill with a frequency of 80/180. \n"
   ]
  },
  {
   "cell_type": "code",
   "execution_count": 15,
   "metadata": {},
   "outputs": [
    {
     "data": {
      "text/html": [
       "<div>\n",
       "<style scoped>\n",
       "    .dataframe tbody tr th:only-of-type {\n",
       "        vertical-align: middle;\n",
       "    }\n",
       "\n",
       "    .dataframe tbody tr th {\n",
       "        vertical-align: top;\n",
       "    }\n",
       "\n",
       "    .dataframe thead th {\n",
       "        text-align: right;\n",
       "    }\n",
       "</style>\n",
       "<table border=\"1\" class=\"dataframe\">\n",
       "  <thead>\n",
       "    <tr style=\"text-align: right;\">\n",
       "      <th></th>\n",
       "      <th>count</th>\n",
       "      <th>mean</th>\n",
       "      <th>std</th>\n",
       "      <th>min</th>\n",
       "      <th>25%</th>\n",
       "      <th>50%</th>\n",
       "      <th>75%</th>\n",
       "      <th>max</th>\n",
       "    </tr>\n",
       "  </thead>\n",
       "  <tbody>\n",
       "    <tr>\n",
       "      <th>Age</th>\n",
       "      <td>180.0</td>\n",
       "      <td>28.788889</td>\n",
       "      <td>6.943498</td>\n",
       "      <td>18.0</td>\n",
       "      <td>24.00</td>\n",
       "      <td>26.0</td>\n",
       "      <td>33.00</td>\n",
       "      <td>50.0</td>\n",
       "    </tr>\n",
       "    <tr>\n",
       "      <th>Education</th>\n",
       "      <td>180.0</td>\n",
       "      <td>15.572222</td>\n",
       "      <td>1.617055</td>\n",
       "      <td>12.0</td>\n",
       "      <td>14.00</td>\n",
       "      <td>16.0</td>\n",
       "      <td>16.00</td>\n",
       "      <td>21.0</td>\n",
       "    </tr>\n",
       "    <tr>\n",
       "      <th>Usage</th>\n",
       "      <td>180.0</td>\n",
       "      <td>3.455556</td>\n",
       "      <td>1.084797</td>\n",
       "      <td>2.0</td>\n",
       "      <td>3.00</td>\n",
       "      <td>3.0</td>\n",
       "      <td>4.00</td>\n",
       "      <td>7.0</td>\n",
       "    </tr>\n",
       "    <tr>\n",
       "      <th>Fitness</th>\n",
       "      <td>180.0</td>\n",
       "      <td>3.311111</td>\n",
       "      <td>0.958869</td>\n",
       "      <td>1.0</td>\n",
       "      <td>3.00</td>\n",
       "      <td>3.0</td>\n",
       "      <td>4.00</td>\n",
       "      <td>5.0</td>\n",
       "    </tr>\n",
       "    <tr>\n",
       "      <th>Income</th>\n",
       "      <td>180.0</td>\n",
       "      <td>53719.577778</td>\n",
       "      <td>16506.684226</td>\n",
       "      <td>29562.0</td>\n",
       "      <td>44058.75</td>\n",
       "      <td>50596.5</td>\n",
       "      <td>58668.00</td>\n",
       "      <td>104581.0</td>\n",
       "    </tr>\n",
       "    <tr>\n",
       "      <th>Miles</th>\n",
       "      <td>180.0</td>\n",
       "      <td>103.194444</td>\n",
       "      <td>51.863605</td>\n",
       "      <td>21.0</td>\n",
       "      <td>66.00</td>\n",
       "      <td>94.0</td>\n",
       "      <td>114.75</td>\n",
       "      <td>360.0</td>\n",
       "    </tr>\n",
       "  </tbody>\n",
       "</table>\n",
       "</div>"
      ],
      "text/plain": [
       "           count          mean           std      min       25%      50%  \\\n",
       "Age        180.0     28.788889      6.943498     18.0     24.00     26.0   \n",
       "Education  180.0     15.572222      1.617055     12.0     14.00     16.0   \n",
       "Usage      180.0      3.455556      1.084797      2.0      3.00      3.0   \n",
       "Fitness    180.0      3.311111      0.958869      1.0      3.00      3.0   \n",
       "Income     180.0  53719.577778  16506.684226  29562.0  44058.75  50596.5   \n",
       "Miles      180.0    103.194444     51.863605     21.0     66.00     94.0   \n",
       "\n",
       "                75%       max  \n",
       "Age           33.00      50.0  \n",
       "Education     16.00      21.0  \n",
       "Usage          4.00       7.0  \n",
       "Fitness        4.00       5.0  \n",
       "Income     58668.00  104581.0  \n",
       "Miles        114.75     360.0  "
      ]
     },
     "execution_count": 15,
     "metadata": {},
     "output_type": "execute_result"
    }
   ],
   "source": [
    "#Obtain a statistical summary of only numerical data (Transpose the output set)\n",
    "cardio.describe().T"
   ]
  },
  {
   "cell_type": "markdown",
   "metadata": {},
   "source": [
    "## Observations\n",
    "- The average customer is approximately 29 years old, with almost 16 years of education. This customer intends to use the treadmill approximately 3-4 days per week and rates their individual fitness level at approximiately 3 (mid-range). The average customer has a mean income of 54,000 and travels 103 miles on the treadmill during a unspecified unit of time.\n",
    "- Age:\n",
    "    -  The mean and median age of the customer base is close at approximately 29 and 26, respectively. \n",
    "    -  Age is likely skewed right.\n",
    "    -  Age ranges from 18 - 50\n",
    "- Education\n",
    "    - The mean and median of education is almost the same (15.57 (15 or 16) and 16 respectively), indicating that Education data might be close to normal. \n",
    "    - Customer education levels range from 12 to 21.\n",
    "- Usage\n",
    "    - Customers intend to use the treadmill, on average approximately 3.5 (3 or 4) days per week (mean). 50 percent of customers will use the treadmill at least 3 days per week (median). Therefore the data may be slightly skewed or close to normal.\n",
    "- Fitness\n",
    "    - The average customer fitness level (as ranked by the customer) is 3.3 (3 or 4). The median customer fitness level is 3. Customers may rang their fitness level between 1 and 5, inclusive.\n",
    "    - Data may be close to normal.\n",
    "-Income\n",
    "    - Customer average income is 53,720. Median income is 50,597. Median data may be slightly skewed right. \n",
    "    - Customer income ranges from a low of 29,562 to a high of 104581.\n",
    "- Miles\n",
    "    - The customer travels an average of 103 miles per unspecified unit of time. Miles median is 94.\n",
    "    - The median is less than the mean therefore the data is likely skewed right.\n",
    "    - Miles traveled ranges from 21 to 360.\n",
    "    "
   ]
  },
  {
   "cell_type": "markdown",
   "metadata": {},
   "source": [
    "# Section 2: Univariate Analysis"
   ]
  },
  {
   "cell_type": "code",
   "execution_count": 16,
   "metadata": {},
   "outputs": [
    {
     "data": {
      "image/png": "[encoded data removed]",
      "text/plain": [
       "<Figure size 864x576 with 6 Axes>"
      ]
     },
     "metadata": {
      "needs_background": "light"
     },
     "output_type": "display_data"
    }
   ],
   "source": [
    "#Create boxplots for numerical variables which display utlaiers outside +-1.5*IQR\n",
    "#NOTE: The technique is same as that presented in content video on Outliers\n",
    "num_cols = ['Age','Education','Usage','Fitness','Income','Miles']\n",
    "plt.figure(figsize = (12,8))\n",
    "\n",
    "for i, variable in enumerate(num_cols):\n",
    "    plt.subplot(2,3,i+1)\n",
    "    plt.boxplot(cardio[variable],whis=1.5)\n",
    "    plt.tight_layout\n",
    "    plt.title(variable)\n",
    "    \n",
    "plt.show()"
   ]
  },
  {
   "cell_type": "markdown",
   "metadata": {},
   "source": [
    "\n",
    "## Initial Observations (need for further observation)\n",
    "- Significant outliers for Income and Miles\n",
    "- Age: Spread (the spread of the lower 50% is significantly smaller than for the upper 50%; three outliers between 45 and 50\n",
    "- Education: Median and 3rd Quartile (Q3) are equal. Two outliers (20 and 21 years of education)\n",
    "- Usage: 1st Quartile (Q1) and Median are equal; two outliers (6 and 7)\n",
    "- Fitness: Low outlier (1); Q1 and Median are equal.\n",
    "- Income: Significant number of outliers (data significantly skewed right)\n",
    "- Miles: Significant number of Outliers (data significantly skewed)\n",
    "\n"
   ]
  },
  {
   "cell_type": "code",
   "execution_count": 17,
   "metadata": {},
   "outputs": [
    {
     "data": {
      "image/png": "[encoded data removed]",
      "text/plain": [
       "<Figure size 864x576 with 6 Axes>"
      ]
     },
     "metadata": {
      "needs_background": "light"
     },
     "output_type": "display_data"
    }
   ],
   "source": [
    "#Create histograms for numerical variables\n",
    "#NOTE: The technique is same as that presented in content video on Outliers\n",
    "num_cols = ['Age','Education','Usage','Fitness','Income','Miles']\n",
    "plt.figure(figsize = (12,8))\n",
    "\n",
    "for i, variable in enumerate(num_cols):\n",
    "    plt.subplot(2,3,i+1)\n",
    "    plt.hist(cardio[variable])\n",
    "    plt.tight_layout\n",
    "    plt.title(variable)\n",
    "    \n",
    "plt.show()"
   ]
  },
  {
   "cell_type": "markdown",
   "metadata": {},
   "source": [
    "## Inital Observations (need for further investigation)\n",
    "- Age: data is skewed right; The age of most customers centers aroung 22-27;\n",
    "- Education: Education is bimodal (or multi-model); two primary modes at 16 and 14 years of education; a third mode is 18 years of education. \n",
    "    - __Mode is the best measure of centrality for Education__\n",
    "- Usage: Usage is also skewed right;  with Mode at 3 days per week; Centrality of data is 3 days per week with outliers of 6 or 7 days per week.\n",
    "- Fitness: Mode of Fitness data is 3; Center of data is 3; 1 is an outlier with most customers ranking their Fitness level at 3 or better.\n",
    "- Income: Centrality occurs around 55,000; data is skewed right with outliers at the high end of data\n",
    "- Miles: Centrality of data is around 80-110; data is skewed right; "
   ]
  },
  {
   "cell_type": "markdown",
   "metadata": {},
   "source": [
    "## Observations on Age\n",
    "Young people (people between 18 and 33 years of age (Q3)) are more likely to buy a treadmill.Only 25% of the treadmill purchases were made by people over 33."
   ]
  },
  {
   "cell_type": "code",
   "execution_count": 18,
   "metadata": {},
   "outputs": [
    {
     "data": {
      "image/png": "[encoded data removed]",
      "text/plain": [
       "<Figure size 432x288 with 1 Axes>"
      ]
     },
     "metadata": {
      "needs_background": "light"
     },
     "output_type": "display_data"
    },
    {
     "data": {
      "image/png": "[encoded data removed]",
      "text/plain": [
       "<Figure size 432x288 with 1 Axes>"
      ]
     },
     "metadata": {
      "needs_background": "light"
     },
     "output_type": "display_data"
    },
    {
     "data": {
      "text/plain": [
       "count    180.000000\n",
       "mean      28.788889\n",
       "std        6.943498\n",
       "min       18.000000\n",
       "25%       24.000000\n",
       "50%       26.000000\n",
       "75%       33.000000\n",
       "max       50.000000\n",
       "Name: Age, dtype: float64"
      ]
     },
     "execution_count": 18,
     "metadata": {},
     "output_type": "execute_result"
    }
   ],
   "source": [
    "#Create boxplot and histogram AND display description statistics for 'Age'\n",
    "sns.histplot(data = cardio, x='Age')\n",
    "plt.show()\n",
    "sns.boxplot(data = cardio, x='Age')\n",
    "plt.show()\n",
    "cardio['Age'].describe().T"
   ]
  },
  {
   "cell_type": "markdown",
   "metadata": {},
   "source": [
    "## Observations on Education\n",
    "Unknown: How do the years of education translate to levels of education. \n",
    "Most customers had years of education equal to 14 or 16 or possible 18. therefore, customers with at least 14 years of education and at most 18 years of education and of education are more likely to purchase a Treadmill product. (25% of customers had less than 14 years of education and greater than 18 years of education is an outlier)."
   ]
  },
  {
   "cell_type": "code",
   "execution_count": 19,
   "metadata": {},
   "outputs": [
    {
     "data": {
      "image/png": "[encoded data removed]",
      "text/plain": [
       "<Figure size 432x288 with 1 Axes>"
      ]
     },
     "metadata": {
      "needs_background": "light"
     },
     "output_type": "display_data"
    },
    {
     "data": {
      "image/png": "[encoded data removed]",
      "text/plain": [
       "<Figure size 432x288 with 1 Axes>"
      ]
     },
     "metadata": {
      "needs_background": "light"
     },
     "output_type": "display_data"
    },
    {
     "data": {
      "text/plain": [
       "count    180.000000\n",
       "mean      15.572222\n",
       "std        1.617055\n",
       "min       12.000000\n",
       "25%       14.000000\n",
       "50%       16.000000\n",
       "75%       16.000000\n",
       "max       21.000000\n",
       "Name: Education, dtype: float64"
      ]
     },
     "execution_count": 19,
     "metadata": {},
     "output_type": "execute_result"
    }
   ],
   "source": [
    "#Create boxplot and histogram AND display description statistics for 'Education'\n",
    "sns.histplot(data = cardio, x='Education')\n",
    "plt.show()\n",
    "sns.boxplot(data = cardio, x='Education')\n",
    "plt.show()\n",
    "cardio['Education'].describe().T"
   ]
  },
  {
   "cell_type": "markdown",
   "metadata": {},
   "source": [
    "## Observations on Usage\n",
    "Usage centers around 3 days per week. Customers are most likely to use a treadmill 3 day per week (Q1, Median and Mode are all equal to 3; Mean is 3.5)\n",
    "75% of customers intend to use the treadmill less than 4 days per week.25% of customers intend to use the treadmill at least 2 days per week. The interQuartile range represents the most usage 3-4 days per week."
   ]
  },
  {
   "cell_type": "code",
   "execution_count": 20,
   "metadata": {},
   "outputs": [
    {
     "data": {
      "image/png": "[encoded data removed]",
      "text/plain": [
       "<Figure size 432x288 with 1 Axes>"
      ]
     },
     "metadata": {
      "needs_background": "light"
     },
     "output_type": "display_data"
    },
    {
     "data": {
      "image/png": "[encoded data removed]",
      "text/plain": [
       "<Figure size 432x288 with 1 Axes>"
      ]
     },
     "metadata": {
      "needs_background": "light"
     },
     "output_type": "display_data"
    },
    {
     "data": {
      "text/plain": [
       "count    180.000000\n",
       "mean       3.455556\n",
       "std        1.084797\n",
       "min        2.000000\n",
       "25%        3.000000\n",
       "50%        3.000000\n",
       "75%        4.000000\n",
       "max        7.000000\n",
       "Name: Usage, dtype: float64"
      ]
     },
     "execution_count": 20,
     "metadata": {},
     "output_type": "execute_result"
    }
   ],
   "source": [
    "#Create boxplot and histogram AND display description statistics for 'Usage'\n",
    "sns.histplot(data = cardio, x='Usage')\n",
    "plt.show()\n",
    "sns.boxplot(data = cardio, x='Usage')\n",
    "plt.show()\n",
    "cardio['Usage'].describe().T"
   ]
  },
  {
   "cell_type": "markdown",
   "metadata": {},
   "source": [
    "## Observations on Fitness\n",
    "Most likely Treadmill customers ranked their fitness level at least 3 or higher than 3. only 25% of customers ranked their fitness level as 3 or less than 3. Those customers that consider themselves more \"fit\" are more likely to purchase/own Treadmill product. \n"
   ]
  },
  {
   "cell_type": "code",
   "execution_count": 21,
   "metadata": {},
   "outputs": [
    {
     "data": {
      "image/png": "[encoded data removed]",
      "text/plain": [
       "<Figure size 432x288 with 1 Axes>"
      ]
     },
     "metadata": {
      "needs_background": "light"
     },
     "output_type": "display_data"
    },
    {
     "data": {
      "image/png": "[encoded data removed]",
      "text/plain": [
       "<Figure size 432x288 with 1 Axes>"
      ]
     },
     "metadata": {
      "needs_background": "light"
     },
     "output_type": "display_data"
    },
    {
     "data": {
      "text/plain": [
       "count    180.000000\n",
       "mean       3.311111\n",
       "std        0.958869\n",
       "min        1.000000\n",
       "25%        3.000000\n",
       "50%        3.000000\n",
       "75%        4.000000\n",
       "max        5.000000\n",
       "Name: Fitness, dtype: float64"
      ]
     },
     "execution_count": 21,
     "metadata": {},
     "output_type": "execute_result"
    }
   ],
   "source": [
    "#Create boxplot and histogram AND display description statistics for 'Fitness'\n",
    "sns.histplot(data = cardio, x='Fitness')\n",
    "plt.show()\n",
    "sns.boxplot(data = cardio, x='Fitness')\n",
    "plt.show()\n",
    "cardio['Fitness'].describe().T"
   ]
  },
  {
   "cell_type": "markdown",
   "metadata": {},
   "source": [
    "## Observations on Income\n",
    "Income centers around 50000 - 53000; This data however is affected by outliers and is significantly skewed right. To view this data more fully, income needs to be evaluated at a higher level. A significant question to as is \"what is the income distribution of the population of both Treadmill buyers and non - treadmill buyers\" to see if there is a level at which the purchase of a treadmill by a member of the population is more likely. From this data alone, one would surmise that an income of at least 30,000 is need before an individual would consider a purchase of a Treadmill. An income of at least 44,000 makes it more likely for an individual to consider a purchase of a treadmill. "
   ]
  },
  {
   "cell_type": "code",
   "execution_count": 22,
   "metadata": {},
   "outputs": [
    {
     "data": {
      "image/png": "[encoded data removed]",
      "text/plain": [
       "<Figure size 432x288 with 1 Axes>"
      ]
     },
     "metadata": {
      "needs_background": "light"
     },
     "output_type": "display_data"
    },
    {
     "data": {
      "image/png": "[encoded data removed]",
      "text/plain": [
       "<Figure size 432x288 with 1 Axes>"
      ]
     },
     "metadata": {
      "needs_background": "light"
     },
     "output_type": "display_data"
    },
    {
     "data": {
      "text/plain": [
       "count       180.000000\n",
       "mean      53719.577778\n",
       "std       16506.684226\n",
       "min       29562.000000\n",
       "25%       44058.750000\n",
       "50%       50596.500000\n",
       "75%       58668.000000\n",
       "max      104581.000000\n",
       "Name: Income, dtype: float64"
      ]
     },
     "execution_count": 22,
     "metadata": {},
     "output_type": "execute_result"
    }
   ],
   "source": [
    "#Create boxplot and histogram AND display description statistics for 'Income'\n",
    "sns.histplot(data = cardio, x='Income')\n",
    "plt.show()\n",
    "sns.boxplot(data = cardio, x='Income')\n",
    "plt.show()\n",
    "cardio['Income'].describe().T"
   ]
  },
  {
   "cell_type": "markdown",
   "metadata": {},
   "source": [
    "## Observations on  Miles\n",
    "Miles data is significantly skewed right with outliers occurring at or above approximately 180 miles.the center of the data is therefore somewhere near the mean (approximately 103) and the median (94). Placing central tendancey at or near the median is more likely given the skewness of the data. Most customers intend to use the treadmill for around 94 miles or within the IQR (66 to 114 miles)"
   ]
  },
  {
   "cell_type": "code",
   "execution_count": 23,
   "metadata": {},
   "outputs": [
    {
     "data": {
      "image/png": "[encoded data removed]",
      "text/plain": [
       "<Figure size 432x288 with 1 Axes>"
      ]
     },
     "metadata": {
      "needs_background": "light"
     },
     "output_type": "display_data"
    },
    {
     "data": {
      "image/png": "[encoded data removed]",
      "text/plain": [
       "<Figure size 432x288 with 1 Axes>"
      ]
     },
     "metadata": {
      "needs_background": "light"
     },
     "output_type": "display_data"
    },
    {
     "data": {
      "text/plain": [
       "count    180.000000\n",
       "mean     103.194444\n",
       "std       51.863605\n",
       "min       21.000000\n",
       "25%       66.000000\n",
       "50%       94.000000\n",
       "75%      114.750000\n",
       "max      360.000000\n",
       "Name: Miles, dtype: float64"
      ]
     },
     "execution_count": 23,
     "metadata": {},
     "output_type": "execute_result"
    }
   ],
   "source": [
    "#Create boxplot and histogram AND display description statistics for 'Miles'\n",
    "sns.histplot(data = cardio, x='Miles')\n",
    "plt.show()\n",
    "sns.boxplot(data = cardio, x='Miles')\n",
    "plt.show()\n",
    "cardio['Miles'].describe().T"
   ]
  },
  {
   "cell_type": "markdown",
   "metadata": {},
   "source": [
    "## Observations on Product\n",
    "4/9 Treadmill products were TM195 (44.4%); 1/3 treadmill products were TM498(33.3%); 2/9 treadmill products sold were TM798 (22.2%) Nearly half of the products purchased by customers were TM195."
   ]
  },
  {
   "cell_type": "code",
   "execution_count": 24,
   "metadata": {},
   "outputs": [
    {
     "ename": "SyntaxError",
     "evalue": "invalid syntax (<ipython-input-24-bd4adc2487cc>, line 1)",
     "output_type": "error",
     "traceback": [
      "\u001b[1;36m  File \u001b[1;32m\"<ipython-input-24-bd4adc2487cc>\"\u001b[1;36m, line \u001b[1;32m1\u001b[0m\n\u001b[1;33m    Display Bar chart and corresponding value count percentages for \"Product\"\u001b[0m\n\u001b[1;37m            ^\u001b[0m\n\u001b[1;31mSyntaxError\u001b[0m\u001b[1;31m:\u001b[0m invalid syntax\n"
     ]
    }
   ],
   "source": [
    "#Display Bar chart and corresponding value count percentages for \"Product\"\n",
    "sns.countplot(data=cardio, x='Product')\n",
    "plt.show()\n",
    "Product_count=cardio['Product'].value_counts(normalize=True).sort_index()\n",
    "print(Product_count*100)"
   ]
  },
  {
   "cell_type": "markdown",
   "metadata": {},
   "source": [
    "## Observations on Gender \n",
    "More men than woman (57.7% compared to 42.2%, respectively) purchased Treadmills."
   ]
  },
  {
   "cell_type": "code",
   "execution_count": null,
   "metadata": {},
   "outputs": [],
   "source": [
    "#Display Bar chart and corresponding value count percentages for \"Gender\"\n",
    "sns.countplot(data=cardio, x='Gender')\n",
    "plt.show()\n",
    "Product_count=cardio['Gender'].value_counts(normalize=True).sort_index()\n",
    "print(Product_count*100)"
   ]
  },
  {
   "cell_type": "markdown",
   "metadata": {},
   "source": [
    "## Observations on Marital Status\n",
    "59.4% of customers are Married (Partnered) versus 40.6% are single. Parnered customers are more likely than single customers. \n"
   ]
  },
  {
   "cell_type": "code",
   "execution_count": null,
   "metadata": {},
   "outputs": [],
   "source": [
    "#Display Bar chart and corresponding value count percentages for \"MaritalStatus\"\n",
    "sns.countplot(data=cardio, x='MaritalStatus')\n",
    "plt.show()\n",
    "Product_count=cardio['MaritalStatus'].value_counts(normalize=True).sort_index()\n",
    "print(Product_count*100)"
   ]
  },
  {
   "cell_type": "markdown",
   "metadata": {},
   "source": [
    "# Bivariate Analysis"
   ]
  },
  {
   "cell_type": "code",
   "execution_count": null,
   "metadata": {},
   "outputs": [],
   "source": [
    "#Generate Correlation heatmap to view variable relationships per Pearson coefficient\n",
    "sns.heatmap(data = cardio[['Age','Education','Usage','Fitness','Income','Miles']].corr(),annot=True);"
   ]
  },
  {
   "cell_type": "code",
   "execution_count": null,
   "metadata": {},
   "outputs": [],
   "source": [
    "#Generate Pairplot of Numerical data\n",
    "sns.pairplot(data = cardio[['Age','Education','Usage','Fitness','Income','Miles']],corner=True);"
   ]
  },
  {
   "cell_type": "markdown",
   "metadata": {},
   "source": [
    "## Observations:\n",
    "Potential relationships to explore\n",
    "- Relationship between Age and Income (and categorical variables)\n",
    "- Relationship between Education and Income (and categorical variables)\n",
    "- Relationship between Usage and Income (and categorical variables)\n",
    "- Relationship between Miles and Age and Usage (and categorical variables)\n",
    "- Relationship between Miles and Fitness (and Categorical variables)"
   ]
  },
  {
   "cell_type": "code",
   "execution_count": null,
   "metadata": {},
   "outputs": [],
   "source": [
    "#Add Gender categorical variable to numerical variables pairplot\n",
    "sns.pairplot(data = cardio, vars =['Age','Education','Usage','Fitness','Income','Miles'],hue = 'Gender',corner=True);"
   ]
  },
  {
   "cell_type": "markdown",
   "metadata": {},
   "source": [
    "## Observations (Numerical variables and Categorical Variable  - Gender\n",
    "Further Observation needed:\n",
    "- Male Usage versus female usage\n",
    "- Male Fitness and Female Fitness\n",
    "- Age, Income and Gender\n",
    "- Income, Fitness and Gender\n",
    "- Income, Usage and Gender\n"
   ]
  },
  {
   "cell_type": "code",
   "execution_count": null,
   "metadata": {},
   "outputs": [],
   "source": [
    "#Add Marital Status categorical variable to numerical variables pairplot\n",
    "sns.pairplot(data = cardio, vars =['Age','Education','Usage','Fitness','Income','Miles'],hue = 'MaritalStatus',corner=True);"
   ]
  },
  {
   "cell_type": "markdown",
   "metadata": {},
   "source": [
    "## Observations\n",
    "Potential relationships exist between the following:\n",
    "- Income, Age and marital status \n",
    "- Education and Marital status\n",
    "- Age and Gender"
   ]
  },
  {
   "cell_type": "code",
   "execution_count": null,
   "metadata": {},
   "outputs": [],
   "source": [
    "#Display correlation plots for numerical variables with emphasis of product\n",
    "sns.pairplot(data = cardio, vars =['Age','Education','Usage','Fitness','Income','Miles'],hue = 'Product',corner=True);"
   ]
  },
  {
   "cell_type": "markdown",
   "metadata": {},
   "source": [
    "## Observations\n",
    "Potential relationships to explore (not an exhaustive list)\n",
    "- Education and product\n",
    "- Usage and Product\n",
    "- Fitness and Product\n",
    "- Income and Product\n",
    "- Miles and Product\n",
    "- Miles, Income and Product\n",
    "- Miles, Age and Product\n",
    "- Income, Age and Product\n",
    "- Income, Education and Product\n",
    "- Miles, Usage and Product\n",
    "- Usage, Age and Product\n",
    "- Fitness, Age and product\n",
    "\n"
   ]
  },
  {
   "cell_type": "markdown",
   "metadata": {},
   "source": [
    "## Explore relationships between Numerical and Categorical variables \n"
   ]
  },
  {
   "cell_type": "markdown",
   "metadata": {},
   "source": [
    "### Age, Product and Gender"
   ]
  },
  {
   "cell_type": "code",
   "execution_count": null,
   "metadata": {},
   "outputs": [],
   "source": [
    "#Display bar chart for Number of Males and females who purchase a specific category of Treadmill.\n",
    "sns.countplot(data=cardio, x='Product', hue= 'Gender')"
   ]
  },
  {
   "cell_type": "markdown",
   "metadata": {},
   "source": [
    "## Observation\n",
    "Given that the product is TM798, Men prefer TM798 over women (significantly)"
   ]
  },
  {
   "cell_type": "code",
   "execution_count": null,
   "metadata": {},
   "outputs": [],
   "source": [
    "#Display boxplot for age of customer and gender\n",
    "sns.boxplot(data = cardio, x='Age',  y =\"Gender\")\n",
    "plt.show()"
   ]
  },
  {
   "cell_type": "code",
   "execution_count": null,
   "metadata": {},
   "outputs": [],
   "source": [
    "#Display count of product by age of customer \n",
    "sns.swarmplot(data=cardio, x='Product', y='Age');"
   ]
  },
  {
   "cell_type": "code",
   "execution_count": null,
   "metadata": {},
   "outputs": [],
   "source": [
    "# Display distribution of product by age of customer with emphasis on Gender\n",
    "sns.boxplot(data = cardio, x='Product',  y =\"Age\", hue = 'Gender')\n",
    "plt.show()"
   ]
  },
  {
   "cell_type": "code",
   "execution_count": null,
   "metadata": {},
   "outputs": [],
   "source": [
    "# Display distribution of product by age  of customer with emphasis on Marital Status \n",
    "sns.boxplot(data = cardio, x='Product',  y =\"Age\", hue = 'MaritalStatus')\n",
    "plt.show()"
   ]
  },
  {
   "cell_type": "markdown",
   "metadata": {},
   "source": [
    "### Education Level and Product"
   ]
  },
  {
   "cell_type": "code",
   "execution_count": null,
   "metadata": {},
   "outputs": [],
   "source": [
    "#Display count of product by Education of customer \n",
    "sns.stripplot(data=cardio, x='Product', y='Education');"
   ]
  },
  {
   "cell_type": "code",
   "execution_count": null,
   "metadata": {},
   "outputs": [],
   "source": [
    "# Display distribution of product by Education level of customer with emphasis on Gender\n",
    "sns.boxplot(data = cardio, x='Product',  y =\"Education\", hue = 'Gender')\n",
    "plt.show()\n"
   ]
  },
  {
   "cell_type": "code",
   "execution_count": null,
   "metadata": {},
   "outputs": [],
   "source": [
    "# Display distribution of product by Education of customer with emphasis on Marital Status \n",
    "sns.boxplot(data = cardio, x='Product',  y =\"Education\", hue = 'MaritalStatus')\n",
    "plt.show()"
   ]
  },
  {
   "cell_type": "markdown",
   "metadata": {},
   "source": [
    "### Usage and Product"
   ]
  },
  {
   "cell_type": "code",
   "execution_count": null,
   "metadata": {},
   "outputs": [],
   "source": [
    "#Display count of product by customer use of product\n",
    "sns.stripplot(data=cardio, x='Product', y='Usage');"
   ]
  },
  {
   "cell_type": "code",
   "execution_count": null,
   "metadata": {},
   "outputs": [],
   "source": [
    "# Display distribution of product by usage  of customer\n",
    "sns.boxplot(data = cardio, x='Product',  y =\"Usage\")\n",
    "plt.show()"
   ]
  },
  {
   "cell_type": "code",
   "execution_count": null,
   "metadata": {},
   "outputs": [],
   "source": [
    "# Display distribution of product by usage of customer with emphasis on Gender\n",
    "sns.boxplot(data = cardio, x='Product',  y =\"Usage\", hue = 'Gender')\n",
    "plt.show()\n"
   ]
  },
  {
   "cell_type": "code",
   "execution_count": null,
   "metadata": {},
   "outputs": [],
   "source": [
    "# Display distribution of product by usage of customer with emphasis on Marital Status \n",
    "sns.boxplot(data = cardio, x='Product',  y =\"Usage\", hue = 'MaritalStatus')\n",
    "plt.show()"
   ]
  },
  {
   "cell_type": "markdown",
   "metadata": {},
   "source": [
    "### Product and Fitness"
   ]
  },
  {
   "cell_type": "code",
   "execution_count": null,
   "metadata": {},
   "outputs": [],
   "source": [
    "#Display count of product by fitness level of custoemr \n",
    "sns.stripplot(data=cardio, x='Product', y='Fitness');"
   ]
  },
  {
   "cell_type": "code",
   "execution_count": null,
   "metadata": {},
   "outputs": [],
   "source": [
    "#Fitness and Gender relationship\n",
    "sns.boxplot(data = cardio, x='Gender',  y =\"Fitness\")\n",
    "plt.show()"
   ]
  },
  {
   "cell_type": "code",
   "execution_count": null,
   "metadata": {},
   "outputs": [],
   "source": [
    "# Display distribution of product by Fitness of customer\n",
    "sns.boxplot(data = cardio, x='Product',  y =\"Fitness\")\n",
    "plt.show()"
   ]
  },
  {
   "cell_type": "code",
   "execution_count": null,
   "metadata": {},
   "outputs": [],
   "source": [
    "# Display distribution of product by fitness of customer with emphasis on Gender\n",
    "sns.boxplot(data = cardio, x='Product',  y =\"Fitness\", hue = 'Gender')\n",
    "plt.show()"
   ]
  },
  {
   "cell_type": "code",
   "execution_count": null,
   "metadata": {},
   "outputs": [],
   "source": [
    "# Display distribution of product by Fitness  of customer with emphasis on Marital Status \n",
    "sns.boxplot(data = cardio, x='Product',  y =\"Fitness\", hue = 'MaritalStatus')\n",
    "plt.show()"
   ]
  },
  {
   "cell_type": "markdown",
   "metadata": {},
   "source": [
    "### Income and Product"
   ]
  },
  {
   "cell_type": "code",
   "execution_count": null,
   "metadata": {},
   "outputs": [],
   "source": [
    "# Display distribution of product by income  of customer\n",
    "sns.boxplot(data = cardio, x='Product',  y =\"Income\")\n",
    "plt.show()"
   ]
  },
  {
   "cell_type": "code",
   "execution_count": null,
   "metadata": {},
   "outputs": [],
   "source": [
    "# Display distribution of product by income of customer with emphasis on Gender\n",
    "sns.boxplot(data = cardio, x='Product',  y =\"Income\", hue = 'Gender')\n",
    "plt.show()"
   ]
  },
  {
   "cell_type": "code",
   "execution_count": null,
   "metadata": {},
   "outputs": [],
   "source": [
    "# Display distribution of product by Income  of customer with emphasis on Marital Status \n",
    "sns.boxplot(data = cardio, x='Product',  y =\"Income\", hue = 'MaritalStatus')\n",
    "plt.show()"
   ]
  },
  {
   "cell_type": "markdown",
   "metadata": {},
   "source": [
    "### Miles and Product"
   ]
  },
  {
   "cell_type": "code",
   "execution_count": null,
   "metadata": {},
   "outputs": [],
   "source": [
    "# Display distribution of product by miles of customer\n",
    "sns.boxplot(data = cardio, x='Product',  y =\"Miles\")\n",
    "plt.show()"
   ]
  },
  {
   "cell_type": "code",
   "execution_count": null,
   "metadata": {},
   "outputs": [],
   "source": [
    "# Display distribution of product by miles of customer with emphasis on Gender\n",
    "sns.boxplot(data = cardio, x='Product',  y =\"Miles\", hue = 'Gender')\n",
    "plt.show()"
   ]
  },
  {
   "cell_type": "code",
   "execution_count": null,
   "metadata": {},
   "outputs": [],
   "source": [
    "# Display distribution of product by miles  of customer with emphasis on Marital Status \n",
    "sns.boxplot(data = cardio, x='Product',  y =\"Miles\", hue = 'MaritalStatus')\n",
    "plt.show()"
   ]
  },
  {
   "cell_type": "markdown",
   "metadata": {},
   "source": [
    "# Recommendations"
   ]
  },
  {
   "cell_type": "markdown",
   "metadata": {},
   "source": [
    "## Product TM798:\n",
    "Given that TM798 is the product least likely  to be purchased (22.2% possibility): \n",
    "The customer most likely to purchase TM498 is: \n",
    "- male\n",
    "- most probably between the ages of approximately 23 and 32 but also possibly less that 42 years of age. (Target customer between the ages of 23 and 42)\n",
    "- has obtained a greater number of years of education\n",
    "- intending to use the product more often that average (between 4-5 days per week)\n",
    "    - Females may report higher usage intention that males\n",
    "    - Customers with partners may report higher usage than singles\n",
    "-reporting higher levels of fitness that average (both male and female)\n",
    "-report higher incomes (at least 50000 per year and more likely between 59000 and 90000 peryear\n",
    "    - Those who have a partner may have  higher income that singles\n",
    "    \n",
    "    \n",
    "__Target Customer:__\n",
    "The target customer for the TM798 is male between the ages of 23 and 32 with a higher than average income and an intent to use the treadmill 4 or ore days per week. This customer will have a greater than average number of years of education (above 14 years and most likely higher). The customer will report a higher than average income (above 50000 per year). The customer will also report an average or greater than average level of fitness and intent to walk/run higher number of miles than average.\n"
   ]
  },
  {
   "cell_type": "markdown",
   "metadata": {},
   "source": [
    "## Product TM498:\n",
    "Given the TM498 is the a likely purchase (2nd of the 3 stated products at 33.3%):\n",
    "The customer most likely to purchase TM498 is:\n",
    "- male or female\n",
    "- Probably between the ages of 24 and 34 but possibly as young as 18 and as old as 47.\n",
    "    - If the customer is female, the likely age range falls between 20 and 42 with a more specific target of 26 to 34\n",
    "- has obtained at least 12 years of education but more likely great than 14 years of education.\n",
    "    - if female, the level of education might be slightly higher than male\n",
    "- intending to use the product approximately 3 days per week\n",
    "    - females may report an intent to use the product between 3-4 days per week\n",
    "- reporting average fitness (approximately 3)\n",
    "- reporting incomes between 32,000 and 63,000 but more likely between 42,000 and 52000\n",
    "\n",
    "__Target Customer:__\n",
    "The target customer for the TM 498 is male or female with an average level income and an intent to use the treadmill at least 3 days per week. This customer will have at least 12 years of educaition but likely no more than 14 years. He/She will report an average income, e.g(50000 per year), average fitness rating average number of miles to walk/run."
   ]
  },
  {
   "cell_type": "markdown",
   "metadata": {},
   "source": [
    "## Product TM195:\n",
    "Given that TM195 is the most popular purchase (44.4%)\n",
    "The customer most likely to purchase TM 195:\n",
    "- male or female\n",
    "- between the ages of 18 and 47 but more likely between the ages of 23 and 34.\n",
    "    - if female, the age range is slight less, at a target range of 24 to 33 extending outward as far as 19 to 44\n",
    "- has obtained at least 12 years of education but more likely great than 14 years of education.\n",
    "    - if female, the level of education might be slightly higher than male\n",
    "- will intend to use the product between 2-5 days per week but more likely between 3-4 days per week\n",
    "- reporting average fitness (approximately 3)\n",
    "- reporting income levels slightly lower or higher than those that purchase the TM498 with primary range between 38000 and 51000\n",
    " \n",
    " __Target Customer:__\n",
    " The target customer for the TM195is male or female with an average level income and an intent to use the treadmill at least 2 days per week (a differentiator between the TM498 and TM 195) This customer will have at least 12 years of educaition but likely no more than 14 years. He/She will report an average income (e.g 50000 per year), average fitness rating average number of miles to walk/run.\n",
    " "
   ]
  },
  {
   "cell_type": "code",
   "execution_count": null,
   "metadata": {},
   "outputs": [],
   "source": []
  }
 ],
 "metadata": {
  "kernelspec": {
   "display_name": "Python 3",
   "language": "python",
   "name": "python3"
  },
  "language_info": {
   "codemirror_mode": {
    "name": "ipython",
    "version": 3
   },
   "file_extension": ".py",
   "mimetype": "text/x-python",
   "name": "python",
   "nbconvert_exporter": "python",
   "pygments_lexer": "ipython3",
   "version": "3.8.5"
  }
 },
 "nbformat": 4,
 "nbformat_minor": 4
}
